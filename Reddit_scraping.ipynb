{
 "cells": [
  {
   "cell_type": "code",
   "execution_count": 16,
   "metadata": {},
   "outputs": [],
   "source": [
    "import praw\n",
    "from pprint import pprint\n",
    "import pandas as pd\n",
    "import numpy as np\n",
    "import matplotlib.pyplot as plt \n",
    "import seaborn as sns"
   ]
  },
  {
   "cell_type": "code",
   "execution_count": 3,
   "metadata": {},
   "outputs": [],
   "source": [
    "# Log In to App: \n",
    "reddit = praw.Reddit(client_id='eKxH9xBDt9S2llZPa1GSQQ', client_secret='B_0BVQyNGtKJ_rEjdJPTP6E7vVr9Bw', user_agent='BneayBot')"
   ]
  },
  {
   "cell_type": "code",
   "execution_count": 4,
   "metadata": {},
   "outputs": [
    {
     "name": "stdout",
     "output_type": "stream",
     "text": [
      "Sunday Daily Thread: What's everyone working on this week?\n",
      "Thursday Daily Thread: Python Careers, Courses, and Furthering Education!\n",
      "SpotiFile : Music scraping made easy\n",
      "Mypy 1.2 Released\n",
      "Polars for initial data analysis, Polars for production\n",
      "Pip, Private CAs, and Root Only vs Bundle Cert Specification\n",
      "PyArrow Strings in Dask DataFrames!!\n",
      "Announcing sequence_align: an open-source Python + Rust toolkit for efficient sequence alignment\n",
      "NetworkX 3.1 released\n",
      "Algebraic Data Types in (typed) Python\n",
      "Is E501 (79 character lines) still relevant?\n",
      "Is geopandas right for this use case or should I be looking at something else? Looking to create, manipulate, and measure closed polylines with arc segments across a shared geometric space.\n",
      "Building and Training Vision Transformer from Scratch\n",
      "Looking for Tips / Educational Newsletter for Intermediate to Advanced Python\n",
      "Showcasing a 2D scrolling shooter game\n",
      "2,000 free sign ups available for the \"Automate the Boring Stuff with Python\" online course. (April 2023)\n",
      "Step-by-step tutorial on Web Scraping with Python with code snippets\n",
      "Presenting gptty v0.2.5 - Enhanced CLI Wrapper for ChatGPT with Context Preservation, Query Support & More!\n",
      "I wrote a small polygon \"renderer\" for .wav files to tell my gf I love her\n",
      "(Flask) Personal portfolio website - Template\n",
      "versionedobj 2.0.4 is out!\n",
      "Python sort vs sorted - Detailed Comparison With Code\n",
      "Introducing tmplt - A User Friendly CLI Tool for Creating Projects with Templates\n",
      "GitHub - blipk/pysh: bash in python\n",
      "Bobtail static files - A little Python http framework\n",
      "OpenConnect Linux GUI Front-end With Tkinter\n",
      "Develop and Invoke AWS Lambda Functions programmatically.\n",
      "Rubbrband: Python CLI for finetuning Stable Diffusion\n",
      "I re-implemented JupyterHub the Kubernetes way\n",
      "I made a program to download / back up all of your saved Reddit content\n",
      "How I was able to identify 3 bottlenecks in WebAssembly python bindings\n",
      "Analysing the emotion timeline of the Enron scandal through their internal emails in Python\n",
      "StrictPython\n",
      "Favorite/best PyCharm plugins?\n",
      "Simple Beginnings\n",
      "Be confident in your requirements list with bonded\n",
      "Everything you need to know about pandas 2.0.0!\n",
      "Textual 0.18.0 adds an API for managing concurrent workers\n",
      "10 Essential Python code snippets for projects\n",
      "A Python Crash Course for Software Engineers\n",
      "Pydantic V2 Pre Release\n",
      "RedditWarp: A comprehensive and type-complete library for interacting with the Reddit API\n",
      "🐍Music video clip by every word is a Google image🎵\n",
      "A thought on getting rid of the GIL in CPython\n",
      "Wednesday Daily Thread: Beginner questions\n",
      "GitHub - INeddHelp/PySwissArmy: PySwissArmy is a Python utility library designed to make common programming tasks easier.\n",
      "Text Parsing: Now You Have Three Problems (David Beazley)\n",
      "🎙️ Introducing an Impressive Streamlit Audio Recorder Custom Component for Python Enthusiasts! 🚀 Star the Repo & Enhance Your Apps! 🎵\n",
      "Performant csv parsers\n",
      "Pandas 2.0 Released\n",
      "👉 New Awesome Polars release! 🚀 What's new in #Polars? Let's find out!\n",
      "Python 2 to 3 work around\n",
      "Inspect interactively any object in Colab\n",
      "chatGPT can never replace programmers\n",
      "Recommendation for courses to learn Selenium with Python\n",
      "Python's del: Remove References From Scopes and Containers – Real Python\n",
      "Easy python module for understanding. recently I have been learning the Oops concepts in python, but I don't feel satisfied in applying those to actual scenarios. can any one please suggest any already developed python module so that I can see the actual Oops concepts involved while development.\n",
      "What projects use ebooklib\n",
      "Pandas 2.0.0\n",
      "I did a Data Analysis Project in Python and shared it on Youtube with Data Set\n",
      "BRL-Slate-Reader: A tool allowing for OCR of scanned images of Braille that was written on a slate!\n",
      "PEP 710 – Recording the provenance of installed packages\n",
      "Flask app with PostgreSQL (CRUD operations)\n",
      "Little guidance of a python newbie\n",
      "Time Complexity and Big O Notation\n",
      "The Ultimate Swiss Army Knife for handling files and directories in your python code!\n",
      "Our latest image classifier: because spotting a fake Pope in a puffer jacket or a fake Trump arrest just got a whole lot easier!\n",
      "19 Sweet Python Syntax Sugar for Improving Your Coding Experience\n",
      "Anyone know if python can be used to make a MATLAB simulink clone (dragging and dropping elements)? If not, do you have recommendations of other languages that can do this best to make a desktop app?\n",
      "How we run our Python tests in hundreds of environments really fast\n",
      "Course that can help you with the deployment part of things\n",
      "Accelerate Hyperparameter Tuning with fal-serverless\n",
      "Zero is now in beta! 🙌 A fast and easy-to-use RPC framework 🚀\n",
      "Anaconda Aims to Democratize Python with PyScript\n",
      "Fpdf2 latest new features\n",
      "The Python on Microcontrollers Newsletter, a free weekly news and project resource\n",
      "Package gpt-magic enables in-context generation of IPython/Jupyter code cells using GPT models API. 0.2.0 adds memory with “%gpt -c”\n",
      "Tuesday Daily Thread: Advanced questions\n",
      "🌟 Learn to create Computer Vision and Natural Language Processing with TensorLayerX's Classic and SOTA Models 🌟\n",
      "Building a Shiny for Python App\n",
      "[Girok] Pretty cool CLI task scheduler for geeks\n",
      "Scrape each question on StackOverflow along with the best answer\n",
      "Persistent and addable text for video files (repo feedback)\n",
      "Converting a huge CSV file into a custom made table\n",
      "Renaming Starlite to LiteStar\n",
      "Full-length tutorial on deploying Flask app on AWS with Docker + RDS + Secrets Manager\n",
      "How to make an API request to an AWS microservice that is protected by IAM auth\n",
      "Is Python 3.rd party libraries are legit safe to pip install?\n",
      "I used Python to create a Virtual Assistant that allows you to speak to and get verbal responses from ChatGPT\n",
      "discord bot i wrote in about a day, thought you guys would like it :)\n",
      "Very interesting and descriptive trading article with python\n",
      "Blinker 1.6 Released!\n",
      "Python + Chat-GPT4 = Sports Score Bots\n",
      "ghstars: ⭐️ Collect and render most notable stargazers for your GitHub projects\n",
      "Voice Assistant\n",
      "I didn't realize that Jupyter was such a great tool..its now my favorite IDE\n",
      "Comprehending The Gripping Roles of Python Developers in Data Science\n",
      "I created a programming language similar to assembly\n",
      "Monday Daily Thread: Project ideas!\n",
      "rain alert for gf\n"
     ]
    }
   ],
   "source": [
    "subs = reddit.subreddit('Python').hot(limit=100)\n",
    "\n",
    "for submission in subs:\n",
    "    print(submission.title)"
   ]
  },
  {
   "cell_type": "code",
   "execution_count": 5,
   "metadata": {},
   "outputs": [
    {
     "name": "stderr",
     "output_type": "stream",
     "text": [
      "C:\\Users\\surface\\AppData\\Local\\Temp\\ipykernel_20876\\1796413492.py:1: DeprecationWarning: Positional arguments for 'BaseListingMixin.top' will no longer be supported in PRAW 8.\n",
      "Call this function with 'time_filter' as a keyword argument.\n",
      "  subs = reddit.subreddit('python').top('year')\n"
     ]
    },
    {
     "name": "stdout",
     "output_type": "stream",
     "text": [
      "The Python Mega Course is now free on Udemy , 198 , 3441\n",
      "at 44, I am struggling on Python for two months now but I keep at it. 2 hours a night, after the kids sleep, I work on it and will eventually be able to use it to get a better job, a better life for them. , 296 , 2341\n",
      "I think the CTX package on PyPI has been hacked! , 288 , 1825\n",
      "Spent Months Writing A Web Dev Course For A Platform, But It Got Canceled Midway. Publishing It Free For The Community. , 93 , 1516\n",
      "Today I’m releasing PyBoy v1.5.0! A Game Boy emulator written in Python, focused on scripting, AI and learning , 32 , 1493\n",
      "How I deploy my bootstrapped Python webapp with 150k monthly users , 172 , 1482\n",
      "Detailed Python developer roadmap , 65 , 1451\n",
      "We are the developers behind pandas, currently preparing for the 2.0 release :) AMA , 375 , 1431\n",
      "A free 'learning map' I found to learn Python. It puts free resources together into a skill tree for planning and tracking learning , 68 , 1425\n",
      "Is it just me or did the creators of the Python QT5 GUI library miss a golden opportunity to call the package QtPy? , 130 , 1372\n",
      "Python 3.11 is out! Huzzah! , 236 , 1342\n",
      "I wrote a Python script which can generate any city from the real world in Minecraft , 76 , 1293\n",
      "Call for questions for Guido van Rossum from Lex Fridman , 286 , 1239\n",
      "Andrew Ng's Machine Learning Course will be re-released in PYTHON this summer! (finally!) , 90 , 1229\n",
      "I made a very pointless program that takes an image and converts it into a spreadsheet (1 pixel = 1 cell) but im very proud of it regardless. Source code in comments , 81 , 1204\n",
      "I'm Al Sweigart, author of Automate the Boring Stuff with Python. I'm currently doing an AMA about my latest book on recursive algorithms. , 54 , 1191\n",
      "Big respect to 90’s programmers and before. I can’t imagine how horrible today’s programmers would be without the Internet? , 265 , 1173\n",
      "PYTHON CHARTS: the Python data visualization site with more than 500 different charts with reproducible code and color tools , 45 , 1144\n",
      "Im making a video editor in Python. Yes, i'm crazy. No, it wont lag , 207 , 1135\n",
      "I’m developing a programming game where you use Python to automate all kinds of machines, robots, drones and more and solve exciting bite-sized coding challenges. , 103 , 1135\n",
      "Unpopular opinion: Matplotlib is a bad library , 338 , 1131\n",
      "Making €6,147,455 Overnight in in-game currency using Computer Vision , 118 , 1116\n",
      "TechCrunch | Python 4 To Be Renamed to Viper And Introduce TypeScript support , 96 , 1115\n",
      "Pyxel, a retro game engine for Python, reaches 300,000 downloads! , 45 , 1075\n",
      "New, free book from Al Sweigart: Python Programming Exercises, Gently Explained , 91 , 1040\n",
      "Intel Publishes Blazing Fast AVX-512 Sorting Library, Numpy Switching To It For 10~17x Faster Sorts , 83 , 1031\n",
      "Unix Pioneer Brian Kernighan: if you could only use one language, choose Python , 167 , 1017\n",
      "A modern and customizable python UI-library based on Tkinter , 51 , 1011\n",
      "Been learning Python for a month now and if you are on the fence on learning programming this post is for you. , 90 , 1005\n",
      "I scanned every package on PyPi and found 57 live AWS keys , 99 , 1006\n",
      "I wrote my first real scripts today , 121 , 1010\n",
      "Python 3.10 Match statements are 86% faster than If statements , 99 , 999\n",
      "Is there possible interest in a youtube series on building a python desktop program? , 192 , 1000\n",
      "I made a Python compiler, that can compile Python source down to fast, standalone executables. , 165 , 993\n",
      "An attempt to significantly reduce homelessness and poverty: I made an open source web application that helps people who are struggling find social services and donators in their area that will help them. , 40 , 987\n",
      "Comprehensive Python Cheatsheet , 38 , 983\n",
      "i mapped the whole C standard library to python , 96 , 968\n",
      "Don’t laugh at me! Like this is completely not my lane. I’m from the hood. , 115 , 937\n",
      "Why Type Hinting Sucks! , 303 , 933\n",
      "I built a chatbot that debugs your Python code better than ChatGPT , 124 , 912\n",
      "Sorting lists in python: sorted() vs sort() , 33 , 904\n",
      "I was unhappy with Spotify recommendations, so I used Python+Spotify's API to make more than 1,000. See the bottom from a Streamlit app to find your playlist. , 42 , 892\n",
      "NiceGUI: Let any browser be the frontend for your Python code , 159 , 879\n",
      "Machine Learning from Scratch with Python , 42 , 867\n",
      "Web Scraping with Python: Everything you need to know to get started (2022) , 43 , 853\n",
      "What's a Python feature that is very powerful but not many people use or know about it? , 514 , 850\n",
      "Why do people still pay and use matlab having python numpy and matplotlib? , 289 , 845\n",
      "Normally I teach Python as a CS professor. Now I’m developing a programming game where you can apply your Python skills to different coding challenges. , 110 , 843\n",
      "Python 3.12: A Game-Changer in Performance and Efficiency , 147 , 836\n",
      "Python is the 2nd most demanded programming language in 2022 , 133 , 829\n",
      "If you're a beginner interested in data science and machine learning, I recently produced a video series that goes through all of the major algorithms and their implementations in Python! I put a lot of work into each tutorial, so hopefully this helps out! , 32 , 824\n",
      "Why use classes? , 139 , 812\n",
      "The Ruff python linter is insanely good , 140 , 809\n",
      "I'm too lazy to turn off my PC at nights. so made an app to turn it off with my phone , 196 , 804\n",
      "Python 3.11 delivers. , 69 , 785\n",
      "Name a better learning resource than Schafer Corey, I'll wait , 151 , 789\n",
      "1 year ago I started building Practice Probs - a site with 138 programming practice problems primarily focused on Python for data science , 26 , 785\n",
      "youtube-dl has a JavaScript interpreter written in pure Python in 870 lines of code , 54 , 777\n",
      "78 Python data science practice problems in a single github repo including numpy, pandas, matplotlib, scipy, regex, pytorch , 23 , 775\n",
      "2,000 free sign ups available for the \"Automate the Boring Stuff with Python\" online course. (Jan 2023) , 65 , 763\n",
      "Inside the team at Microsoft that helped make Python 10-60% Faster , 62 , 762\n",
      "MicroPython officially becomes part of the Arduino ecosystem | Arduino Blog , 35 , 752\n",
      "I created a script that allows you to store any file (encrypted or not) in an image using steganography , 127 , 741\n",
      "Python 3.12 speed plan: trace optimizer, per-interpreter GIL for multi-threaded, bytecode specializations, smaller object structs and reduced memory management overhead! , 78 , 735\n",
      "do the two snakes have a name , 136 , 731\n",
      "Pandas 2.0 Released , 54 , 726\n",
      "Your favourite \"less-known\" Python features? , 470 , 726\n",
      "Anyone else learning Python as a hobby? , 195 , 727\n",
      "I know this isn't much, but I made Minesweeper using Python. Really proud how it turned out! , 60 , 729\n",
      "Multiple Backdoored Python Libraries Caught Stealing AWS Secrets and Keys , 102 , 721\n",
      "I built a simple Airbnb scraper to analyze cleaning fees so you don't have to. Nothing fancy. Hopefully, it's useful. , 16 , 713\n",
      "Researchers Uncover Obfuscated Malicious Code in PyPI Python Packages , 100 , 711\n",
      "I've built an app to show how to build a complete web app , 35 , 712\n",
      "Python 3.11 Performance Benchmarks Are Looking Fantastic , 102 , 703\n",
      "A Programming game where you use Python to automate all kinds of machines, robots, drones and more and solve exciting bite-sized coding challenges (developer post) , 60 , 701\n",
      "After using Python for over 2 years I am still really confused about all of the installation stuff and virtual environments , 317 , 686\n",
      "Can we stop creating docker images that require you to use environments within them? , 272 , 684\n",
      "Add background music to your scripts , 61 , 679\n",
      "What is your favorite ,most underrated 3rd party python module that made your programming 10 times more easier and less code ? so we can also try that out :-) .as a beginner , mine is pyinputplus , 204 , 676\n",
      "Flatliner: turn python programs into one line of (still python) code , 191 , 668\n",
      "How To Write Clean Code in Python , 114 , 666\n",
      "I made a game from scratch in 48 hours for the Ludum Dare with Python , 61 , 654\n",
      "Meet ‘PyScript’: New Framework From Anaconda That Allows Users To Create Rich Python Applications In The Browser Using HTML’s Interface , 137 , 648\n",
      "Data Scientist in the Aerospace industry - I'm going to start posting daily practical videos instead of the abundant theoretical knowledge I see everywhere, check me out and let me know how I can improve the format , 40 , 648\n",
      "If you've been affected by layoffs, register on reverse jobs boards , 50 , 640\n",
      "Vent: I'm tired of the 1001 libraries of virtual environments. , 353 , 640\n",
      "DALL·E 2 now available as public API for Python! , 64 , 645\n",
      "I just released my book \"Learn Python through Nursery Rhymes and Fairy Tales\"! , 92 , 644\n",
      "Reinforcement Learning for Beginners: Coding a Maze-solving Agent from Scratch , 11 , 629\n",
      "Pynecone: Web Apps in Pure Python , 196 , 631\n",
      "A game coded in Python on Steam ! , 109 , 627\n",
      "Tired of endlessly scrolling through remote jobs that hire only within certain countries? I made a site to curate fully location independent jobs. It now has around 250 work-from-anywhere job opportunities. , 29 , 622\n",
      "Fill your images with amogi using Python! , 60 , 626\n",
      "Bloomberg just Open sourced Memray a memory profiler for Python , 33 , 622\n",
      "2,000 free sign ups available for the \"Automate the Boring Stuff with Python\" online course. (Dec 2022) , 82 , 625\n",
      "Developing a multiplayer co-op zombie survival in pygame and python! , 56 , 617\n",
      "Why you should use Data Classes in Python , 75 , 614\n",
      "Better Google Calendar API for Python , 67 , 613\n",
      "Infosys leaked FullAdminAccess AWS keys on PyPi for over a year , 58 , 609\n",
      "Python 2 removed from Debian , 71 , 609\n"
     ]
    }
   ],
   "source": [
    "subs = reddit.subreddit('python').top('year')\n",
    "\n",
    "for submission in subs:\n",
    "    print(submission.title,',',submission.num_comments,',',submission.score)"
   ]
  },
  {
   "cell_type": "code",
   "execution_count": 6,
   "metadata": {},
   "outputs": [
    {
     "data": {
      "text/html": [
       "<div>\n",
       "<style scoped>\n",
       "    .dataframe tbody tr th:only-of-type {\n",
       "        vertical-align: middle;\n",
       "    }\n",
       "\n",
       "    .dataframe tbody tr th {\n",
       "        vertical-align: top;\n",
       "    }\n",
       "\n",
       "    .dataframe thead th {\n",
       "        text-align: right;\n",
       "    }\n",
       "</style>\n",
       "<table border=\"1\" class=\"dataframe\">\n",
       "  <thead>\n",
       "    <tr style=\"text-align: right;\">\n",
       "      <th></th>\n",
       "      <th>title</th>\n",
       "      <th>score</th>\n",
       "      <th>url</th>\n",
       "      <th>num_comments</th>\n",
       "      <th>body</th>\n",
       "    </tr>\n",
       "  </thead>\n",
       "  <tbody>\n",
       "    <tr>\n",
       "      <th>0</th>\n",
       "      <td>Sunday Daily Thread: What's everyone working on this week?</td>\n",
       "      <td>9</td>\n",
       "      <td>https://www.reddit.com/r/Python/comments/1293hsw/sunday_daily_thread_whats_everyone_working_on/</td>\n",
       "      <td>28</td>\n",
       "      <td>Tell /r/python what you're working on this week! You can be bragging, grousing, sharing your passion, or explaining your pain. Talk about your current project or your pet project; whatever you want to share.</td>\n",
       "    </tr>\n",
       "    <tr>\n",
       "      <th>1</th>\n",
       "      <td>Thursday Daily Thread: Python Careers, Courses, and Furthering Education!</td>\n",
       "      <td>1</td>\n",
       "      <td>https://www.reddit.com/r/Python/comments/12d2l9a/thursday_daily_thread_python_careers_courses_and/</td>\n",
       "      <td>0</td>\n",
       "      <td>Discussion of using Python in a professional environment, getting jobs in Python as well as ask questions about courses to further your python education!\\n\\n**This thread is not for recruitment, please see** r/PythonJobs **or the thread in the sidebar for that.**</td>\n",
       "    </tr>\n",
       "    <tr>\n",
       "      <th>2</th>\n",
       "      <td>SpotiFile : Music scraping made easy</td>\n",
       "      <td>180</td>\n",
       "      <td>https://www.reddit.com/r/Python/comments/12dfdq1/spotifile_music_scraping_made_easy/</td>\n",
       "      <td>30</td>\n",
       "      <td>\\n\\nI made a neat tool to scrape songs (with GUI).\\n\\n[GitHub Link](https://github.com/Michael-K-Stein/SpotiFile)\\n\\nAll you need to do is install the dependencies (\"pip install -r ./requirements\"), and then \"python [main.py](https://main.py/)\". It's that easy!\\n\\n##This tool is mainly aimed at developers looking to create datasets to train ML models.\\n\\nSpotiFile will open a GUI which lets you enter a playlist, album, artist, or user profile link and download all the relevant songs. This will also download all the metadata of the song, including the time-synced lyrics!\\n\\nIf you use the tool, please give the repo a star :)\\nAnd please tell me how to improve the code quality!\\n\\nEnjoy!</td>\n",
       "    </tr>\n",
       "    <tr>\n",
       "      <th>3</th>\n",
       "      <td>Mypy 1.2 Released</td>\n",
       "      <td>43</td>\n",
       "      <td>https://mypy-lang.blogspot.com/2023/04/mypy-12-released.html</td>\n",
       "      <td>0</td>\n",
       "      <td></td>\n",
       "    </tr>\n",
       "    <tr>\n",
       "      <th>4</th>\n",
       "      <td>Polars for initial data analysis, Polars for production</td>\n",
       "      <td>21</td>\n",
       "      <td>https://pythonspeed.com/articles/polars-exploratory-data-analysis-vs-production/</td>\n",
       "      <td>2</td>\n",
       "      <td></td>\n",
       "    </tr>\n",
       "    <tr>\n",
       "      <th>...</th>\n",
       "      <td>...</td>\n",
       "      <td>...</td>\n",
       "      <td>...</td>\n",
       "      <td>...</td>\n",
       "      <td>...</td>\n",
       "    </tr>\n",
       "    <tr>\n",
       "      <th>516</th>\n",
       "      <td>Lib for dynamically generating classes from json or dict on runtime</td>\n",
       "      <td>0</td>\n",
       "      <td>https://www.reddit.com/r/Python/comments/11ra0e5/lib_for_dynamically_generating_classes_from_json/</td>\n",
       "      <td>0</td>\n",
       "      <td>I wrote a lib for creating dynamically classes or objects from python dicts or json on runtime.\\n\\nwith this lib you are be able to let your application write his entity him self.\\n\\nI using it for generating classes out of json request in flask for sqlalchemy or mongoengine.\\n\\nit works with init on class level and also with init on attributes.\\n\\nit works with builtin types and also own objects and types.\\n\\n[https://pypi.org/project/pydict2class/0.0.1/](https://pypi.org/project/pydict2class/0.0.1/)\\n\\n[https://github.com/dierk-bentpiening/PyDict2Class](https://github.com/dierk-bentpiening/PyDict2Class)\\n\\n# PyDict2Class\\n\\nDynamic create classes from dict or json like you would develop them yourself.\\n\\n## Introduction\\n\\nThis tool makes it possible to generate a Python class with attributes from a dict or a JSON, or to create an object with the corresponding assigned values. The data type of the value of the dict or JSON is recognized and automatically initialized with the appropriate builtins data types. Non Python standard types or methods can also be included by adding them to the type attribute, this can also override the internal data types.\\n\\ni use this tool to dynamically create mongoengine data classes with the appropriate attributes. Actual i am implement the Functionality to create SQLAlchemy Data Model classes.\\n\\n## Usage\\n\\ninstall the library from source or over pip. import package and inherit Class object. e builtins data types. Non Python standard types or methods can also be inc\\n\\n    from pydict2class import Dict2Class dict2class = Dict2Class() \\n\\nDefine the Dictionary you want to generate a class from.\\n\\n    mydict = {\"integer\": 1, \"string\": \"my string\", \"boolean\": True, \"list\": [1, 2, 3]} \\n\\nNow you have to decide whether you want to generate only the class or if you want to generate the class and instantiate it with the values given in your dict or json.\\n\\n**Only generate the class:**\\n\\n    myclass = dict2class.generate(mydict, \"myclassname\") \\n\\nThe magic is done and you have a dynamic class with the dictionary keys as attribute names and the value data type as datatype.\\n\\n**Generate class and initialize object:**\\n\\n    myobj = dict2class.generate_and_init(mydict, \"classfdict\") \\n\\n**Use JSON instead of Dict:**\\n\\n    myjsonstr = '{\"integer\": 1, \"string\": \"my string\", \"boolean\": True, \"list\": [1, 2, 3]}' myclass = dict2class.generate(myjsonstr, \"myclass\", json=True) \\n\\n**Add Custom methods to types and use them:**\\n\\n       dict2class = Dict2Class()     dict2class.types = mycustommethods      \\n\\n**Add list of custom methods to type and use them:**\\n\\n       dict2class = Dict2Class()     dict2class.types = [custommethod1, custommethod2, custommethod3, custommethod4, custommethod5] \\n\\n[https://pypi.org/project/pydict2class/0.0.1/](https://pypi.org/project/pydict2class/0.0.1/)\\n\\n[https://github.com/dierk-bentpiening/PyDict2Class](https://github.com/dierk-bentpiening/PyDict2Class)</td>\n",
       "    </tr>\n",
       "    <tr>\n",
       "      <th>517</th>\n",
       "      <td>Build your own dataset generator with Python</td>\n",
       "      <td>0</td>\n",
       "      <td>https://medium.com/@tobiastt/build-your-own-dataset-generator-with-python-d783cafeea23</td>\n",
       "      <td>3</td>\n",
       "      <td></td>\n",
       "    </tr>\n",
       "    <tr>\n",
       "      <th>518</th>\n",
       "      <td>Python libraries</td>\n",
       "      <td>1</td>\n",
       "      <td>https://www.reddit.com/r/Python/comments/11r83an/python_libraries/</td>\n",
       "      <td>6</td>\n",
       "      <td>When I first started programming I got my feet wet using python and have working knowledge about the language, but transitioned my focus on front-end web development. I want to return to python to develop a deeper understanding, what are some libraries you use in your day-to-day you’d say would be worth learning? Thanks in advance!</td>\n",
       "    </tr>\n",
       "    <tr>\n",
       "      <th>519</th>\n",
       "      <td>Clicknium tutorial: automate Windows application and web browser in Python</td>\n",
       "      <td>3</td>\n",
       "      <td>https://www.reddit.com/r/Python/comments/11r0rqn/clicknium_tutorial_automate_windows_application/</td>\n",
       "      <td>0</td>\n",
       "      <td>Clicknium python module is a very useful GUI automation lib. But the office doc is not straight enough. So I write a tutorial for the lib and hope more people use it to reduce the daily task. \\n\\n[https://dev.to/kayyolo/clicknium-cookbook-1ai2](https://dev.to/kayyolo/clicknium-cookbook-1ai2)</td>\n",
       "    </tr>\n",
       "    <tr>\n",
       "      <th>520</th>\n",
       "      <td>Many rows -&gt; kernel died</td>\n",
       "      <td>4</td>\n",
       "      <td>https://www.reddit.com/r/Python/comments/11qyuex/many_rows_kernel_died/</td>\n",
       "      <td>19</td>\n",
       "      <td>I have a SQL query for getting data from a database and loading it to a dataframe. How ever, this drains the memory and I often get a message telling me the kernel has died. I have about 8 million rows.\\n\\nIs there a way solution to this?</td>\n",
       "    </tr>\n",
       "  </tbody>\n",
       "</table>\n",
       "<p>521 rows × 5 columns</p>\n",
       "</div>"
      ],
      "text/plain": [
       "                                                                          title  \\\n",
       "0                    Sunday Daily Thread: What's everyone working on this week?   \n",
       "1     Thursday Daily Thread: Python Careers, Courses, and Furthering Education!   \n",
       "2                                          SpotiFile : Music scraping made easy   \n",
       "3                                                             Mypy 1.2 Released   \n",
       "4                       Polars for initial data analysis, Polars for production   \n",
       "..                                                                          ...   \n",
       "516         Lib for dynamically generating classes from json or dict on runtime   \n",
       "517                                Build your own dataset generator with Python   \n",
       "518                                                            Python libraries   \n",
       "519  Clicknium tutorial: automate Windows application and web browser in Python   \n",
       "520                                                    Many rows -> kernel died   \n",
       "\n",
       "     score  \\\n",
       "0        9   \n",
       "1        1   \n",
       "2      180   \n",
       "3       43   \n",
       "4       21   \n",
       "..     ...   \n",
       "516      0   \n",
       "517      0   \n",
       "518      1   \n",
       "519      3   \n",
       "520      4   \n",
       "\n",
       "                                                                                                    url  \\\n",
       "0       https://www.reddit.com/r/Python/comments/1293hsw/sunday_daily_thread_whats_everyone_working_on/   \n",
       "1    https://www.reddit.com/r/Python/comments/12d2l9a/thursday_daily_thread_python_careers_courses_and/   \n",
       "2                  https://www.reddit.com/r/Python/comments/12dfdq1/spotifile_music_scraping_made_easy/   \n",
       "3                                          https://mypy-lang.blogspot.com/2023/04/mypy-12-released.html   \n",
       "4                      https://pythonspeed.com/articles/polars-exploratory-data-analysis-vs-production/   \n",
       "..                                                                                                  ...   \n",
       "516  https://www.reddit.com/r/Python/comments/11ra0e5/lib_for_dynamically_generating_classes_from_json/   \n",
       "517              https://medium.com/@tobiastt/build-your-own-dataset-generator-with-python-d783cafeea23   \n",
       "518                                  https://www.reddit.com/r/Python/comments/11r83an/python_libraries/   \n",
       "519   https://www.reddit.com/r/Python/comments/11r0rqn/clicknium_tutorial_automate_windows_application/   \n",
       "520                             https://www.reddit.com/r/Python/comments/11qyuex/many_rows_kernel_died/   \n",
       "\n",
       "     num_comments  \\\n",
       "0              28   \n",
       "1               0   \n",
       "2              30   \n",
       "3               0   \n",
       "4               2   \n",
       "..            ...   \n",
       "516             0   \n",
       "517             3   \n",
       "518             6   \n",
       "519             0   \n",
       "520            19   \n",
       "\n",
       "                                                                                                                                                                                                                                                                                                                                                                                                                                                                                                                                                                                                                                                                                                                                                                                                                                                                                                                                                                                                                                                                                                                                                                                                                                                                                                                                                                                                                                                                                                                                                                                                                                                                                                                                                                                                                                                                                                                                                                                                                                                                                                                                                                                                                                                                                                                                                                                                                                                                                                                                                                                                                                                                                                                                                                                                                                                                                                                                                                                                                                                                                         body  \n",
       "0                                                                                                                                                                                                                                                                                                                                                                                                                                                                                                                                                                                                                                                                                                                                                                                                                                                                                                                                                                                                                                                                                                                                                                                                                                                                                                                                                                                                                                                                                                                                                                                                                                                                                                                                                                                                                                                                                                                                                                                                                                                                                                                                                                                                                                                                                                                                                                                                                                                                                                                                                                                                                                                                                                                                                                                                                                                                             Tell /r/python what you're working on this week! You can be bragging, grousing, sharing your passion, or explaining your pain. Talk about your current project or your pet project; whatever you want to share.  \n",
       "1                                                                                                                                                                                                                                                                                                                                                                                                                                                                                                                                                                                                                                                                                                                                                                                                                                                                                                                                                                                                                                                                                                                                                                                                                                                                                                                                                                                                                                                                                                                                                                                                                                                                                                                                                                                                                                                                                                                                                                                                                                                                                                                                                                                                                                                                                                                                                                                                                                                                                                                                                                                                                                                                                                                                                                                                                     Discussion of using Python in a professional environment, getting jobs in Python as well as ask questions about courses to further your python education!\\n\\n**This thread is not for recruitment, please see** r/PythonJobs **or the thread in the sidebar for that.**  \n",
       "2                                                                                                                                                                                                                                                                                                                                                                                                                                                                                                                                                                                                                                                                                                                                                                                                                                                                                                                                                                                                                                                                                                                                                                                                                                                                                                                                                                                                                                                                                                                                                                                                                                                                                                                                                                                                                                                                                                                                                                                                                                                                                                                                                                                                                                                                                                                                                                      \\n\\nI made a neat tool to scrape songs (with GUI).\\n\\n[GitHub Link](https://github.com/Michael-K-Stein/SpotiFile)\\n\\nAll you need to do is install the dependencies (\"pip install -r ./requirements\"), and then \"python [main.py](https://main.py/)\". It's that easy!\\n\\n##This tool is mainly aimed at developers looking to create datasets to train ML models.\\n\\nSpotiFile will open a GUI which lets you enter a playlist, album, artist, or user profile link and download all the relevant songs. This will also download all the metadata of the song, including the time-synced lyrics!\\n\\nIf you use the tool, please give the repo a star :)\\nAnd please tell me how to improve the code quality!\\n\\nEnjoy!  \n",
       "3                                                                                                                                                                                                                                                                                                                                                                                                                                                                                                                                                                                                                                                                                                                                                                                                                                                                                                                                                                                                                                                                                                                                                                                                                                                                                                                                                                                                                                                                                                                                                                                                                                                                                                                                                                                                                                                                                                                                                                                                                                                                                                                                                                                                                                                                                                                                                                                                                                                                                                                                                                                                                                                                                                                                                                                                                                                                                                                                                                                                                                                                                              \n",
       "4                                                                                                                                                                                                                                                                                                                                                                                                                                                                                                                                                                                                                                                                                                                                                                                                                                                                                                                                                                                                                                                                                                                                                                                                                                                                                                                                                                                                                                                                                                                                                                                                                                                                                                                                                                                                                                                                                                                                                                                                                                                                                                                                                                                                                                                                                                                                                                                                                                                                                                                                                                                                                                                                                                                                                                                                                                                                                                                                                                                                                                                                                              \n",
       "..                                                                                                                                                                                                                                                                                                                                                                                                                                                                                                                                                                                                                                                                                                                                                                                                                                                                                                                                                                                                                                                                                                                                                                                                                                                                                                                                                                                                                                                                                                                                                                                                                                                                                                                                                                                                                                                                                                                                                                                                                                                                                                                                                                                                                                                                                                                                                                                                                                                                                                                                                                                                                                                                                                                                                                                                                                                                                                                                                                                                                                                                                        ...  \n",
       "516  I wrote a lib for creating dynamically classes or objects from python dicts or json on runtime.\\n\\nwith this lib you are be able to let your application write his entity him self.\\n\\nI using it for generating classes out of json request in flask for sqlalchemy or mongoengine.\\n\\nit works with init on class level and also with init on attributes.\\n\\nit works with builtin types and also own objects and types.\\n\\n[https://pypi.org/project/pydict2class/0.0.1/](https://pypi.org/project/pydict2class/0.0.1/)\\n\\n[https://github.com/dierk-bentpiening/PyDict2Class](https://github.com/dierk-bentpiening/PyDict2Class)\\n\\n# PyDict2Class\\n\\nDynamic create classes from dict or json like you would develop them yourself.\\n\\n## Introduction\\n\\nThis tool makes it possible to generate a Python class with attributes from a dict or a JSON, or to create an object with the corresponding assigned values. The data type of the value of the dict or JSON is recognized and automatically initialized with the appropriate builtins data types. Non Python standard types or methods can also be included by adding them to the type attribute, this can also override the internal data types.\\n\\ni use this tool to dynamically create mongoengine data classes with the appropriate attributes. Actual i am implement the Functionality to create SQLAlchemy Data Model classes.\\n\\n## Usage\\n\\ninstall the library from source or over pip. import package and inherit Class object. e builtins data types. Non Python standard types or methods can also be inc\\n\\n    from pydict2class import Dict2Class dict2class = Dict2Class() \\n\\nDefine the Dictionary you want to generate a class from.\\n\\n    mydict = {\"integer\": 1, \"string\": \"my string\", \"boolean\": True, \"list\": [1, 2, 3]} \\n\\nNow you have to decide whether you want to generate only the class or if you want to generate the class and instantiate it with the values given in your dict or json.\\n\\n**Only generate the class:**\\n\\n    myclass = dict2class.generate(mydict, \"myclassname\") \\n\\nThe magic is done and you have a dynamic class with the dictionary keys as attribute names and the value data type as datatype.\\n\\n**Generate class and initialize object:**\\n\\n    myobj = dict2class.generate_and_init(mydict, \"classfdict\") \\n\\n**Use JSON instead of Dict:**\\n\\n    myjsonstr = '{\"integer\": 1, \"string\": \"my string\", \"boolean\": True, \"list\": [1, 2, 3]}' myclass = dict2class.generate(myjsonstr, \"myclass\", json=True) \\n\\n**Add Custom methods to types and use them:**\\n\\n       dict2class = Dict2Class()     dict2class.types = mycustommethods      \\n\\n**Add list of custom methods to type and use them:**\\n\\n       dict2class = Dict2Class()     dict2class.types = [custommethod1, custommethod2, custommethod3, custommethod4, custommethod5] \\n\\n[https://pypi.org/project/pydict2class/0.0.1/](https://pypi.org/project/pydict2class/0.0.1/)\\n\\n[https://github.com/dierk-bentpiening/PyDict2Class](https://github.com/dierk-bentpiening/PyDict2Class)  \n",
       "517                                                                                                                                                                                                                                                                                                                                                                                                                                                                                                                                                                                                                                                                                                                                                                                                                                                                                                                                                                                                                                                                                                                                                                                                                                                                                                                                                                                                                                                                                                                                                                                                                                                                                                                                                                                                                                                                                                                                                                                                                                                                                                                                                                                                                                                                                                                                                                                                                                                                                                                                                                                                                                                                                                                                                                                                                                                                                                                                                                                                                                                                                            \n",
       "518                                                                                                                                                                                                                                                                                                                                                                                                                                                                                                                                                                                                                                                                                                                                                                                                                                                                                                                                                                                                                                                                                                                                                                                                                                                                                                                                                                                                                                                                                                                                                                                                                                                                                                                                                                                                                                                                                                                                                                                                                                                                                                                                                                                                                                                                                                                                                                                                                                                                                                                                                                                                                                                                                                                                             When I first started programming I got my feet wet using python and have working knowledge about the language, but transitioned my focus on front-end web development. I want to return to python to develop a deeper understanding, what are some libraries you use in your day-to-day you’d say would be worth learning? Thanks in advance!  \n",
       "519                                                                                                                                                                                                                                                                                                                                                                                                                                                                                                                                                                                                                                                                                                                                                                                                                                                                                                                                                                                                                                                                                                                                                                                                                                                                                                                                                                                                                                                                                                                                                                                                                                                                                                                                                                                                                                                                                                                                                                                                                                                                                                                                                                                                                                                                                                                                                                                                                                                                                                                                                                                                                                                                                                                                                                                      Clicknium python module is a very useful GUI automation lib. But the office doc is not straight enough. So I write a tutorial for the lib and hope more people use it to reduce the daily task. \\n\\n[https://dev.to/kayyolo/clicknium-cookbook-1ai2](https://dev.to/kayyolo/clicknium-cookbook-1ai2)  \n",
       "520                                                                                                                                                                                                                                                                                                                                                                                                                                                                                                                                                                                                                                                                                                                                                                                                                                                                                                                                                                                                                                                                                                                                                                                                                                                                                                                                                                                                                                                                                                                                                                                                                                                                                                                                                                                                                                                                                                                                                                                                                                                                                                                                                                                                                                                                                                                                                                                                                                                                                                                                                                                                                                                                                                                                                                                                                                            I have a SQL query for getting data from a database and loading it to a dataframe. How ever, this drains the memory and I often get a message telling me the kernel has died. I have about 8 million rows.\\n\\nIs there a way solution to this?  \n",
       "\n",
       "[521 rows x 5 columns]"
      ]
     },
     "execution_count": 6,
     "metadata": {},
     "output_type": "execute_result"
    }
   ],
   "source": [
    "import pandas as pd\n",
    "pd.set_option('max_colwidth', None)\n",
    "df = []\n",
    "\n",
    "subreddit = reddit.subreddit('python')\n",
    "\n",
    "for post in subreddit.hot(limit=1000):\n",
    "    df.append([post.title, post.score, post.url, post.num_comments, post.selftext])\n",
    "\n",
    "df = pd.DataFrame(df,columns=['title', 'score', 'url', 'num_comments', 'body'])\n",
    "df"
   ]
  },
  {
   "cell_type": "code",
   "execution_count": 7,
   "metadata": {},
   "outputs": [
    {
     "name": "stdout",
     "output_type": "stream",
     "text": [
      "504\n"
     ]
    }
   ],
   "source": [
    "headlines=set()\n",
    "for submission in reddit.subreddit('Python').hot(limit=None):\n",
    "    headlines.add(submission.title)\n",
    "print(len(headlines))"
   ]
  },
  {
   "cell_type": "code",
   "execution_count": 8,
   "metadata": {},
   "outputs": [
    {
     "data": {
      "text/html": [
       "<div>\n",
       "<style scoped>\n",
       "    .dataframe tbody tr th:only-of-type {\n",
       "        vertical-align: middle;\n",
       "    }\n",
       "\n",
       "    .dataframe tbody tr th {\n",
       "        vertical-align: top;\n",
       "    }\n",
       "\n",
       "    .dataframe thead th {\n",
       "        text-align: right;\n",
       "    }\n",
       "</style>\n",
       "<table border=\"1\" class=\"dataframe\">\n",
       "  <thead>\n",
       "    <tr style=\"text-align: right;\">\n",
       "      <th></th>\n",
       "      <th>0</th>\n",
       "    </tr>\n",
       "  </thead>\n",
       "  <tbody>\n",
       "    <tr>\n",
       "      <th>0</th>\n",
       "      <td>Introducing DataFrame QuickView: A Python package for easy DataFrame visualization, co-created with GPT-4! Seeking contributors 🚀</td>\n",
       "    </tr>\n",
       "    <tr>\n",
       "      <th>1</th>\n",
       "      <td>Keystroke Dynamics -- Predicting the User — Lambda App</td>\n",
       "    </tr>\n",
       "    <tr>\n",
       "      <th>2</th>\n",
       "      <td>Be confident in your requirements list with bonded</td>\n",
       "    </tr>\n",
       "    <tr>\n",
       "      <th>3</th>\n",
       "      <td>Is E501 (79 character lines) still relevant?</td>\n",
       "    </tr>\n",
       "    <tr>\n",
       "      <th>4</th>\n",
       "      <td>yoyo-migrations performance feedback</td>\n",
       "    </tr>\n",
       "  </tbody>\n",
       "</table>\n",
       "</div>"
      ],
      "text/plain": [
       "                                                                                                                                   0\n",
       "0  Introducing DataFrame QuickView: A Python package for easy DataFrame visualization, co-created with GPT-4! Seeking contributors 🚀\n",
       "1                                                                             Keystroke Dynamics -- Predicting the User — Lambda App\n",
       "2                                                                                 Be confident in your requirements list with bonded\n",
       "3                                                                                       Is E501 (79 character lines) still relevant?\n",
       "4                                                                                               yoyo-migrations performance feedback"
      ]
     },
     "execution_count": 8,
     "metadata": {},
     "output_type": "execute_result"
    }
   ],
   "source": [
    "df = pd.DataFrame(headlines)\n",
    "df.head()"
   ]
  },
  {
   "cell_type": "code",
   "execution_count": 11,
   "metadata": {},
   "outputs": [
    {
     "name": "stderr",
     "output_type": "stream",
     "text": [
      "[nltk_data] Downloading package vader_lexicon to\n",
      "[nltk_data]     C:\\Users\\surface\\AppData\\Roaming\\nltk_data...\n"
     ]
    },
    {
     "data": {
      "text/plain": [
       "True"
      ]
     },
     "execution_count": 11,
     "metadata": {},
     "output_type": "execute_result"
    }
   ],
   "source": [
    "import nltk\n",
    "nltk.download('vader_lexicon')"
   ]
  },
  {
   "cell_type": "code",
   "execution_count": null,
   "metadata": {},
   "outputs": [
    {
     "name": "stdout",
     "output_type": "stream",
     "text": [
      "[{'compound': 0.4926,\n",
      "  'headlines': 'Introducing DataFrame QuickView: A Python package for easy DataFrame '\n",
      "               'visualization, co-created with GPT-4! Seeking contributors 🚀',\n",
      "  'neg': 0.0,\n",
      "  'neu': 0.803,\n",
      "  'pos': 0.197},\n",
      " {'compound': 0.2732,\n",
      "  'headlines': 'Keystroke Dynamics -- Predicting the User — Lambda App',\n",
      "  'neg': 0.0,\n",
      "  'neu': 0.769,\n",
      "  'pos': 0.231},\n",
      " {'compound': 0.4939,\n",
      "  'headlines': 'Be confident in your requirements list with bonded',\n",
      "  'neg': 0.0,\n",
      "  'neu': 0.686,\n",
      "  'pos': 0.314}]\n"
     ]
    }
   ],
   "source": [
    "from nltk.sentiment.vader import SentimentIntensityAnalyzer as SIA\n",
    "\n",
    "sia=SIA()\n",
    "results=[]\n",
    "\n",
    "for line in headlines:\n",
    "    pol_score=sia.polarity_scores(line)\n",
    "    pol_score['headlines'] = line\n",
    "    results.append(pol_score)\n",
    "\n",
    "pprint(results[:3], width=100)\n",
    "\n"
   ]
  },
  {
   "cell_type": "code",
   "execution_count": 18,
   "metadata": {},
   "outputs": [
    {
     "data": {
      "text/html": [
       "<div>\n",
       "<style scoped>\n",
       "    .dataframe tbody tr th:only-of-type {\n",
       "        vertical-align: middle;\n",
       "    }\n",
       "\n",
       "    .dataframe tbody tr th {\n",
       "        vertical-align: top;\n",
       "    }\n",
       "\n",
       "    .dataframe thead th {\n",
       "        text-align: right;\n",
       "    }\n",
       "</style>\n",
       "<table border=\"1\" class=\"dataframe\">\n",
       "  <thead>\n",
       "    <tr style=\"text-align: right;\">\n",
       "      <th></th>\n",
       "      <th>neg</th>\n",
       "      <th>neu</th>\n",
       "      <th>pos</th>\n",
       "      <th>compound</th>\n",
       "      <th>headlines</th>\n",
       "    </tr>\n",
       "  </thead>\n",
       "  <tbody>\n",
       "    <tr>\n",
       "      <th>0</th>\n",
       "      <td>0.0</td>\n",
       "      <td>0.803</td>\n",
       "      <td>0.197</td>\n",
       "      <td>0.4926</td>\n",
       "      <td>Introducing DataFrame QuickView: A Python package for easy DataFrame visualization, co-created with GPT-4! Seeking contributors 🚀</td>\n",
       "    </tr>\n",
       "    <tr>\n",
       "      <th>1</th>\n",
       "      <td>0.0</td>\n",
       "      <td>0.769</td>\n",
       "      <td>0.231</td>\n",
       "      <td>0.2732</td>\n",
       "      <td>Keystroke Dynamics -- Predicting the User — Lambda App</td>\n",
       "    </tr>\n",
       "    <tr>\n",
       "      <th>2</th>\n",
       "      <td>0.0</td>\n",
       "      <td>0.686</td>\n",
       "      <td>0.314</td>\n",
       "      <td>0.4939</td>\n",
       "      <td>Be confident in your requirements list with bonded</td>\n",
       "    </tr>\n",
       "    <tr>\n",
       "      <th>3</th>\n",
       "      <td>0.0</td>\n",
       "      <td>1.000</td>\n",
       "      <td>0.000</td>\n",
       "      <td>0.0000</td>\n",
       "      <td>Is E501 (79 character lines) still relevant?</td>\n",
       "    </tr>\n",
       "    <tr>\n",
       "      <th>4</th>\n",
       "      <td>0.0</td>\n",
       "      <td>1.000</td>\n",
       "      <td>0.000</td>\n",
       "      <td>0.0000</td>\n",
       "      <td>yoyo-migrations performance feedback</td>\n",
       "    </tr>\n",
       "  </tbody>\n",
       "</table>\n",
       "</div>"
      ],
      "text/plain": [
       "   neg    neu    pos  compound  \\\n",
       "0  0.0  0.803  0.197    0.4926   \n",
       "1  0.0  0.769  0.231    0.2732   \n",
       "2  0.0  0.686  0.314    0.4939   \n",
       "3  0.0  1.000  0.000    0.0000   \n",
       "4  0.0  1.000  0.000    0.0000   \n",
       "\n",
       "                                                                                                                           headlines  \n",
       "0  Introducing DataFrame QuickView: A Python package for easy DataFrame visualization, co-created with GPT-4! Seeking contributors 🚀  \n",
       "1                                                                             Keystroke Dynamics -- Predicting the User — Lambda App  \n",
       "2                                                                                 Be confident in your requirements list with bonded  \n",
       "3                                                                                       Is E501 (79 character lines) still relevant?  \n",
       "4                                                                                               yoyo-migrations performance feedback  "
      ]
     },
     "execution_count": 18,
     "metadata": {},
     "output_type": "execute_result"
    }
   ],
   "source": [
    "df = pd.DataFrame.from_records(results)\n",
    "df.head()"
   ]
  },
  {
   "cell_type": "code",
   "execution_count": 25,
   "metadata": {},
   "outputs": [
    {
     "data": {
      "text/html": [
       "<div>\n",
       "<style scoped>\n",
       "    .dataframe tbody tr th:only-of-type {\n",
       "        vertical-align: middle;\n",
       "    }\n",
       "\n",
       "    .dataframe tbody tr th {\n",
       "        vertical-align: top;\n",
       "    }\n",
       "\n",
       "    .dataframe thead th {\n",
       "        text-align: right;\n",
       "    }\n",
       "</style>\n",
       "<table border=\"1\" class=\"dataframe\">\n",
       "  <thead>\n",
       "    <tr style=\"text-align: right;\">\n",
       "      <th></th>\n",
       "      <th>neg</th>\n",
       "      <th>neu</th>\n",
       "      <th>pos</th>\n",
       "      <th>compound</th>\n",
       "      <th>headlines</th>\n",
       "      <th>label</th>\n",
       "    </tr>\n",
       "  </thead>\n",
       "  <tbody>\n",
       "    <tr>\n",
       "      <th>0</th>\n",
       "      <td>0.0</td>\n",
       "      <td>0.803</td>\n",
       "      <td>0.197</td>\n",
       "      <td>0.4926</td>\n",
       "      <td>Introducing DataFrame QuickView: A Python package for easy DataFrame visualization, co-created with GPT-4! Seeking contributors 🚀</td>\n",
       "      <td>1</td>\n",
       "    </tr>\n",
       "    <tr>\n",
       "      <th>1</th>\n",
       "      <td>0.0</td>\n",
       "      <td>0.769</td>\n",
       "      <td>0.231</td>\n",
       "      <td>0.2732</td>\n",
       "      <td>Keystroke Dynamics -- Predicting the User — Lambda App</td>\n",
       "      <td>1</td>\n",
       "    </tr>\n",
       "    <tr>\n",
       "      <th>2</th>\n",
       "      <td>0.0</td>\n",
       "      <td>0.686</td>\n",
       "      <td>0.314</td>\n",
       "      <td>0.4939</td>\n",
       "      <td>Be confident in your requirements list with bonded</td>\n",
       "      <td>1</td>\n",
       "    </tr>\n",
       "    <tr>\n",
       "      <th>3</th>\n",
       "      <td>0.0</td>\n",
       "      <td>1.000</td>\n",
       "      <td>0.000</td>\n",
       "      <td>0.0000</td>\n",
       "      <td>Is E501 (79 character lines) still relevant?</td>\n",
       "      <td>0</td>\n",
       "    </tr>\n",
       "    <tr>\n",
       "      <th>4</th>\n",
       "      <td>0.0</td>\n",
       "      <td>1.000</td>\n",
       "      <td>0.000</td>\n",
       "      <td>0.0000</td>\n",
       "      <td>yoyo-migrations performance feedback</td>\n",
       "      <td>0</td>\n",
       "    </tr>\n",
       "  </tbody>\n",
       "</table>\n",
       "</div>"
      ],
      "text/plain": [
       "   neg    neu    pos  compound  \\\n",
       "0  0.0  0.803  0.197    0.4926   \n",
       "1  0.0  0.769  0.231    0.2732   \n",
       "2  0.0  0.686  0.314    0.4939   \n",
       "3  0.0  1.000  0.000    0.0000   \n",
       "4  0.0  1.000  0.000    0.0000   \n",
       "\n",
       "                                                                                                                           headlines  \\\n",
       "0  Introducing DataFrame QuickView: A Python package for easy DataFrame visualization, co-created with GPT-4! Seeking contributors 🚀   \n",
       "1                                                                             Keystroke Dynamics -- Predicting the User — Lambda App   \n",
       "2                                                                                 Be confident in your requirements list with bonded   \n",
       "3                                                                                       Is E501 (79 character lines) still relevant?   \n",
       "4                                                                                               yoyo-migrations performance feedback   \n",
       "\n",
       "   label  \n",
       "0      1  \n",
       "1      1  \n",
       "2      1  \n",
       "3      0  \n",
       "4      0  "
      ]
     },
     "execution_count": 25,
     "metadata": {},
     "output_type": "execute_result"
    }
   ],
   "source": [
    "df['label']=0\n",
    "df.loc[df['compound']>0.2, 'label'] =1\n",
    "df.loc[df['compound']<-0.2, 'label'] =-1\n",
    "\n",
    "df.head()"
   ]
  },
  {
   "cell_type": "code",
   "execution_count": 26,
   "metadata": {},
   "outputs": [],
   "source": [
    "df2=df[['headlines','label']]"
   ]
  },
  {
   "cell_type": "code",
   "execution_count": 29,
   "metadata": {},
   "outputs": [],
   "source": [
    "df2.to_csv('headlines_labels.csv', encoding='utf-8',index=False)"
   ]
  },
  {
   "cell_type": "code",
   "execution_count": 30,
   "metadata": {},
   "outputs": [
    {
     "data": {
      "text/plain": [
       " 0    328\n",
       " 1    147\n",
       "-1     29\n",
       "Name: label, dtype: int64"
      ]
     },
     "execution_count": 30,
     "metadata": {},
     "output_type": "execute_result"
    }
   ],
   "source": [
    "df.label.value_counts()"
   ]
  },
  {
   "cell_type": "code",
   "execution_count": 31,
   "metadata": {},
   "outputs": [
    {
     "data": {
      "text/plain": [
       " 0    65.079365\n",
       " 1    29.166667\n",
       "-1     5.753968\n",
       "Name: label, dtype: float64"
      ]
     },
     "execution_count": 31,
     "metadata": {},
     "output_type": "execute_result"
    }
   ],
   "source": [
    "df2.label.value_counts(normalize=True)*100"
   ]
  },
  {
   "cell_type": "code",
   "execution_count": 34,
   "metadata": {},
   "outputs": [
    {
     "name": "stdout",
     "output_type": "stream",
     "text": [
      "Positive headlines:\n",
      "\n",
      "['Introducing DataFrame QuickView: A Python package for easy DataFrame visualization, co-created with GPT-4! Seeking contributors 🚀',\n",
      " 'Keystroke Dynamics -- Predicting the User — Lambda App',\n",
      " 'Be confident in your requirements list with bonded',\n",
      " 'New release of FastKafka supporting Redpanda',\n",
      " 'Is Python 3.rd party libraries are legit safe to pip install?']\n",
      "Negative headlines:\n",
      "\n",
      "['Auto Login and Auto Prompt for non api chat gpt. No cloudfare so far!!',\n",
      " 'Analysing the emotion timeline of the Enron scandal through their internal emails in Python',\n",
      " 'Alarm clock made with Python & Kivy',\n",
      " 'Text Parsing: Now You Have Three Problems (David Beazley)',\n",
      " 'The SC has decided to reject PEP 582 (Python local packages directory) , at least in its current form.']\n"
     ]
    }
   ],
   "source": [
    "print(\"Positive headlines:\\n\")\n",
    "pprint(list(df[df['label']==1].headlines)[:5], width=200)\n",
    "\n",
    "print(\"Negative headlines:\\n\")\n",
    "pprint(list(df[df['label']==-1].headlines)[:5], width=200)\n"
   ]
  },
  {
   "cell_type": "code",
   "execution_count": 38,
   "metadata": {},
   "outputs": [
    {
     "data": {
      "image/png": "[encoded data removed]",
      "text/plain": [
       "<Figure size 800x800 with 1 Axes>"
      ]
     },
     "metadata": {},
     "output_type": "display_data"
    }
   ],
   "source": [
    "fig , ax = plt.subplots(figsize=(8,8))\n",
    "counts=df.label.value_counts(normalize=True)*100\n",
    "\n",
    "sns.barplot(x=counts.index, y=counts, ax=ax)\n",
    "\n",
    "ax.set_xticklabels(['Negative', 'Neutral','Positive'])\n",
    "ax.set_ylabel(\"Percentage\")\n",
    "\n",
    "plt.show()"
   ]
  },
  {
   "cell_type": "code",
   "execution_count": 3,
   "metadata": {},
   "outputs": [
    {
     "name": "stderr",
     "output_type": "stream",
     "text": [
      "A decoder-only architecture is being used, but right-padding was detected! For correct generation results, please set `padding_side='left'` when initializing the tokenizer.\n"
     ]
    },
    {
     "name": "stdout",
     "output_type": "stream",
     "text": [
      "DialoGPT: Hiya\n"
     ]
    },
    {
     "name": "stderr",
     "output_type": "stream",
     "text": [
      "A decoder-only architecture is being used, but right-padding was detected! For correct generation results, please set `padding_side='left'` when initializing the tokenizer.\n"
     ]
    },
    {
     "name": "stdout",
     "output_type": "stream",
     "text": [
      "DialoGPT: I'm doing great, thank you for asking.\n"
     ]
    },
    {
     "name": "stderr",
     "output_type": "stream",
     "text": [
      "A decoder-only architecture is being used, but right-padding was detected! For correct generation results, please set `padding_side='left'` when initializing the tokenizer.\n"
     ]
    },
    {
     "name": "stdout",
     "output_type": "stream",
     "text": [
      "DialoGPT: I have been trained on the date of the day you asked me.\n"
     ]
    },
    {
     "name": "stderr",
     "output_type": "stream",
     "text": [
      "A decoder-only architecture is being used, but right-padding was detected! For correct generation results, please set `padding_side='left'` when initializing the tokenizer.\n"
     ]
    },
    {
     "name": "stdout",
     "output_type": "stream",
     "text": [
      "DialoGPT: The data I have been trained on.\n"
     ]
    },
    {
     "name": "stderr",
     "output_type": "stream",
     "text": [
      "A decoder-only architecture is being used, but right-padding was detected! For correct generation results, please set `padding_side='left'` when initializing the tokenizer.\n"
     ]
    },
    {
     "name": "stdout",
     "output_type": "stream",
     "text": [
      "DialoGPT: I have been trained on the data you have been trained on.\n"
     ]
    }
   ],
   "source": [
    "from transformers import AutoModelForCausalLM, AutoTokenizer\n",
    "import torch\n",
    "\n",
    "\n",
    "tokenizer = AutoTokenizer.from_pretrained(\"microsoft/DialoGPT-large\")\n",
    "model = AutoModelForCausalLM.from_pretrained(\"microsoft/DialoGPT-large\")\n",
    "\n",
    "# Let's chat for 5 lines\n",
    "for step in range(5):\n",
    "    # encode the new user input, add the eos_token and return a tensor in Pytorch\n",
    "    new_user_input_ids = tokenizer.encode(input(\">> User:\") + tokenizer.eos_token, return_tensors='pt')\n",
    "\n",
    "    # append the new user input tokens to the chat history\n",
    "    bot_input_ids = torch.cat([chat_history_ids, new_user_input_ids], dim=-1) if step > 0 else new_user_input_ids\n",
    "\n",
    "    # generated a response while limiting the total chat history to 1000 tokens, \n",
    "    chat_history_ids = model.generate(bot_input_ids, max_length=1000, pad_token_id=tokenizer.eos_token_id)\n",
    "\n",
    "    # pretty print last ouput tokens from bot\n",
    "    print(\"DialoGPT: {}\".format(tokenizer.decode(chat_history_ids[:, bot_input_ids.shape[-1]:][0], skip_special_tokens=True)))"
   ]
  }
 ],
 "metadata": {
  "kernelspec": {
   "display_name": "Python 3",
   "language": "python",
   "name": "python3"
  },
  "language_info": {
   "codemirror_mode": {
    "name": "ipython",
    "version": 3
   },
   "file_extension": ".py",
   "mimetype": "text/x-python",
   "name": "python",
   "nbconvert_exporter": "python",
   "pygments_lexer": "ipython3",
   "version": "3.11.0"
  },
  "orig_nbformat": 4
 },
 "nbformat": 4,
 "nbformat_minor": 2
}
